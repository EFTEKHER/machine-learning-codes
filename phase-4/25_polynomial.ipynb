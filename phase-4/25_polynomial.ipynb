{
 "cells": [
  {
   "cell_type": "code",
   "execution_count": 1,
   "metadata": {},
   "outputs": [],
   "source": [
    "import pandas as pd\n",
    "import matplotlib.pyplot as plt\n",
    "import numpy as np\n",
    "import seaborn as sns"
   ]
  },
  {
   "cell_type": "code",
   "execution_count": 92,
   "metadata": {},
   "outputs": [],
   "source": [
    "# Define parameters for the logistic function\n",
    "L = 10000000  # Curve's maximum value\n",
    "k = 0.1       # Logistic growth rate\n",
    "x0 = 50       # Midpoint of the curve\n",
    "\n",
    "# Generate level data points\n",
    "levels = np.arange(1, 101)\n",
    "\n",
    "# Apply the logistic function to generate salary data points\n",
    "salaries = L / (1 + np.exp(-k * (levels - x0)))\n",
    "\n",
    "# Convert the salaries to integers\n",
    "salaries = salaries.astype(int)\n",
    "\n",
    "# Create the DataFrame\n",
    "data = {\n",
    "    \"Level\": levels,\n",
    "    \"Salary\": salaries\n",
    "}\n",
    "\n",
    "dataset = pd.DataFrame(data)"
   ]
  },
  {
   "cell_type": "code",
   "execution_count": 176,
   "metadata": {},
   "outputs": [
    {
     "data": {
      "text/html": [
       "<div>\n",
       "<style scoped>\n",
       "    .dataframe tbody tr th:only-of-type {\n",
       "        vertical-align: middle;\n",
       "    }\n",
       "\n",
       "    .dataframe tbody tr th {\n",
       "        vertical-align: top;\n",
       "    }\n",
       "\n",
       "    .dataframe thead th {\n",
       "        text-align: right;\n",
       "    }\n",
       "</style>\n",
       "<table border=\"1\" class=\"dataframe\">\n",
       "  <thead>\n",
       "    <tr style=\"text-align: right;\">\n",
       "      <th></th>\n",
       "      <th>Level</th>\n",
       "      <th>Salary</th>\n",
       "    </tr>\n",
       "  </thead>\n",
       "  <tbody>\n",
       "    <tr>\n",
       "      <th>0</th>\n",
       "      <td>1</td>\n",
       "      <td>73915</td>\n",
       "    </tr>\n",
       "    <tr>\n",
       "      <th>1</th>\n",
       "      <td>2</td>\n",
       "      <td>81625</td>\n",
       "    </tr>\n",
       "    <tr>\n",
       "      <th>2</th>\n",
       "      <td>3</td>\n",
       "      <td>90132</td>\n",
       "    </tr>\n",
       "    <tr>\n",
       "      <th>3</th>\n",
       "      <td>4</td>\n",
       "      <td>99518</td>\n",
       "    </tr>\n",
       "    <tr>\n",
       "      <th>4</th>\n",
       "      <td>5</td>\n",
       "      <td>109869</td>\n",
       "    </tr>\n",
       "  </tbody>\n",
       "</table>\n",
       "</div>"
      ],
      "text/plain": [
       "   Level  Salary\n",
       "0      1   73915\n",
       "1      2   81625\n",
       "2      3   90132\n",
       "3      4   99518\n",
       "4      5  109869"
      ]
     },
     "execution_count": 176,
     "metadata": {},
     "output_type": "execute_result"
    }
   ],
   "source": [
    "dataset.head()"
   ]
  },
  {
   "cell_type": "code",
   "execution_count": null,
   "metadata": {},
   "outputs": [],
   "source": []
  },
  {
   "cell_type": "code",
   "execution_count": 177,
   "metadata": {},
   "outputs": [],
   "source": [
    "dataset=pd.read_csv('dataset.csv')"
   ]
  },
  {
   "cell_type": "code",
   "execution_count": 178,
   "metadata": {},
   "outputs": [
    {
     "data": {
      "image/png": "[encoded data removed]",
      "text/plain": [
       "<Figure size 640x480 with 1 Axes>"
      ]
     },
     "metadata": {},
     "output_type": "display_data"
    }
   ],
   "source": [
    "sns.scatterplot(x='Level', y='Salary', data=dataset)\n",
    "plt.xlabel('Level')\n",
    "plt.ylabel('Salary')\n",
    "plt.show()"
   ]
  },
  {
   "cell_type": "code",
   "execution_count": null,
   "metadata": {},
   "outputs": [],
   "source": []
  },
  {
   "cell_type": "code",
   "execution_count": null,
   "metadata": {},
   "outputs": [],
   "source": []
  },
  {
   "cell_type": "code",
   "execution_count": 179,
   "metadata": {},
   "outputs": [],
   "source": [
    "from sklearn.preprocessing import PolynomialFeatures"
   ]
  },
  {
   "cell_type": "code",
   "execution_count": 180,
   "metadata": {},
   "outputs": [],
   "source": [
    "pf=PolynomialFeatures(degree=3)"
   ]
  },
  {
   "cell_type": "code",
   "execution_count": 181,
   "metadata": {},
   "outputs": [],
   "source": [
    "x=dataset[[\"Level\"]]\n",
    "y=dataset[\"Salary\"]"
   ]
  },
  {
   "cell_type": "code",
   "execution_count": 182,
   "metadata": {},
   "outputs": [
    {
     "data": {
      "text/html": [
       "<style>#sk-container-id-14 {color: black;}#sk-container-id-14 pre{padding: 0;}#sk-container-id-14 div.sk-toggleable {background-color: white;}#sk-container-id-14 label.sk-toggleable__label {cursor: pointer;display: block;width: 100%;margin-bottom: 0;padding: 0.3em;box-sizing: border-box;text-align: center;}#sk-container-id-14 label.sk-toggleable__label-arrow:before {content: \"▸\";float: left;margin-right: 0.25em;color: #696969;}#sk-container-id-14 label.sk-toggleable__label-arrow:hover:before {color: black;}#sk-container-id-14 div.sk-estimator:hover label.sk-toggleable__label-arrow:before {color: black;}#sk-container-id-14 div.sk-toggleable__content {max-height: 0;max-width: 0;overflow: hidden;text-align: left;background-color: #f0f8ff;}#sk-container-id-14 div.sk-toggleable__content pre {margin: 0.2em;color: black;border-radius: 0.25em;background-color: #f0f8ff;}#sk-container-id-14 input.sk-toggleable__control:checked~div.sk-toggleable__content {max-height: 200px;max-width: 100%;overflow: auto;}#sk-container-id-14 input.sk-toggleable__control:checked~label.sk-toggleable__label-arrow:before {content: \"▾\";}#sk-container-id-14 div.sk-estimator input.sk-toggleable__control:checked~label.sk-toggleable__label {background-color: #d4ebff;}#sk-container-id-14 div.sk-label input.sk-toggleable__control:checked~label.sk-toggleable__label {background-color: #d4ebff;}#sk-container-id-14 input.sk-hidden--visually {border: 0;clip: rect(1px 1px 1px 1px);clip: rect(1px, 1px, 1px, 1px);height: 1px;margin: -1px;overflow: hidden;padding: 0;position: absolute;width: 1px;}#sk-container-id-14 div.sk-estimator {font-family: monospace;background-color: #f0f8ff;border: 1px dotted black;border-radius: 0.25em;box-sizing: border-box;margin-bottom: 0.5em;}#sk-container-id-14 div.sk-estimator:hover {background-color: #d4ebff;}#sk-container-id-14 div.sk-parallel-item::after {content: \"\";width: 100%;border-bottom: 1px solid gray;flex-grow: 1;}#sk-container-id-14 div.sk-label:hover label.sk-toggleable__label {background-color: #d4ebff;}#sk-container-id-14 div.sk-serial::before {content: \"\";position: absolute;border-left: 1px solid gray;box-sizing: border-box;top: 0;bottom: 0;left: 50%;z-index: 0;}#sk-container-id-14 div.sk-serial {display: flex;flex-direction: column;align-items: center;background-color: white;padding-right: 0.2em;padding-left: 0.2em;position: relative;}#sk-container-id-14 div.sk-item {position: relative;z-index: 1;}#sk-container-id-14 div.sk-parallel {display: flex;align-items: stretch;justify-content: center;background-color: white;position: relative;}#sk-container-id-14 div.sk-item::before, #sk-container-id-14 div.sk-parallel-item::before {content: \"\";position: absolute;border-left: 1px solid gray;box-sizing: border-box;top: 0;bottom: 0;left: 50%;z-index: -1;}#sk-container-id-14 div.sk-parallel-item {display: flex;flex-direction: column;z-index: 1;position: relative;background-color: white;}#sk-container-id-14 div.sk-parallel-item:first-child::after {align-self: flex-end;width: 50%;}#sk-container-id-14 div.sk-parallel-item:last-child::after {align-self: flex-start;width: 50%;}#sk-container-id-14 div.sk-parallel-item:only-child::after {width: 0;}#sk-container-id-14 div.sk-dashed-wrapped {border: 1px dashed gray;margin: 0 0.4em 0.5em 0.4em;box-sizing: border-box;padding-bottom: 0.4em;background-color: white;}#sk-container-id-14 div.sk-label label {font-family: monospace;font-weight: bold;display: inline-block;line-height: 1.2em;}#sk-container-id-14 div.sk-label-container {text-align: center;}#sk-container-id-14 div.sk-container {/* jupyter's `normalize.less` sets `[hidden] { display: none; }` but bootstrap.min.css set `[hidden] { display: none !important; }` so we also need the `!important` here to be able to override the default hidden behavior on the sphinx rendered scikit-learn.org. See: https://github.com/scikit-learn/scikit-learn/issues/21755 */display: inline-block !important;position: relative;}#sk-container-id-14 div.sk-text-repr-fallback {display: none;}</style><div id=\"sk-container-id-14\" class=\"sk-top-container\"><div class=\"sk-text-repr-fallback\"><pre>PolynomialFeatures(degree=3)</pre><b>In a Jupyter environment, please rerun this cell to show the HTML representation or trust the notebook. <br />On GitHub, the HTML representation is unable to render, please try loading this page with nbviewer.org.</b></div><div class=\"sk-container\" hidden><div class=\"sk-item\"><div class=\"sk-estimator sk-toggleable\"><input class=\"sk-toggleable__control sk-hidden--visually\" id=\"sk-estimator-id-14\" type=\"checkbox\" checked><label for=\"sk-estimator-id-14\" class=\"sk-toggleable__label sk-toggleable__label-arrow\">PolynomialFeatures</label><div class=\"sk-toggleable__content\"><pre>PolynomialFeatures(degree=3)</pre></div></div></div></div></div>"
      ],
      "text/plain": [
       "PolynomialFeatures(degree=3)"
      ]
     },
     "execution_count": 182,
     "metadata": {},
     "output_type": "execute_result"
    }
   ],
   "source": [
    "pf.fit(x)"
   ]
  },
  {
   "cell_type": "code",
   "execution_count": 183,
   "metadata": {},
   "outputs": [],
   "source": [
    "x=pf.transform(x)"
   ]
  },
  {
   "cell_type": "code",
   "execution_count": 196,
   "metadata": {},
   "outputs": [
    {
     "data": {
      "text/html": [
       "<div>\n",
       "<style scoped>\n",
       "    .dataframe tbody tr th:only-of-type {\n",
       "        vertical-align: middle;\n",
       "    }\n",
       "\n",
       "    .dataframe tbody tr th {\n",
       "        vertical-align: top;\n",
       "    }\n",
       "\n",
       "    .dataframe thead th {\n",
       "        text-align: right;\n",
       "    }\n",
       "</style>\n",
       "<table border=\"1\" class=\"dataframe\">\n",
       "  <thead>\n",
       "    <tr style=\"text-align: right;\">\n",
       "      <th></th>\n",
       "      <th>Level</th>\n",
       "      <th>Salary</th>\n",
       "    </tr>\n",
       "  </thead>\n",
       "  <tbody>\n",
       "    <tr>\n",
       "      <th>0</th>\n",
       "      <td>1</td>\n",
       "      <td>73915</td>\n",
       "    </tr>\n",
       "    <tr>\n",
       "      <th>1</th>\n",
       "      <td>2</td>\n",
       "      <td>81625</td>\n",
       "    </tr>\n",
       "    <tr>\n",
       "      <th>2</th>\n",
       "      <td>3</td>\n",
       "      <td>90132</td>\n",
       "    </tr>\n",
       "    <tr>\n",
       "      <th>3</th>\n",
       "      <td>4</td>\n",
       "      <td>99518</td>\n",
       "    </tr>\n",
       "    <tr>\n",
       "      <th>4</th>\n",
       "      <td>5</td>\n",
       "      <td>109869</td>\n",
       "    </tr>\n",
       "  </tbody>\n",
       "</table>\n",
       "</div>"
      ],
      "text/plain": [
       "   Level  Salary\n",
       "0      1   73915\n",
       "1      2   81625\n",
       "2      3   90132\n",
       "3      4   99518\n",
       "4      5  109869"
      ]
     },
     "execution_count": 196,
     "metadata": {},
     "output_type": "execute_result"
    }
   ],
   "source": [
    "dataset.head()\n"
   ]
  },
  {
   "cell_type": "code",
   "execution_count": 195,
   "metadata": {},
   "outputs": [
    {
     "data": {
      "text/plain": [
       "array([[1.00000e+00, 1.00000e+00, 1.00000e+00, 1.00000e+00],\n",
       "       [1.00000e+00, 2.00000e+00, 4.00000e+00, 8.00000e+00],\n",
       "       [1.00000e+00, 3.00000e+00, 9.00000e+00, 2.70000e+01],\n",
       "       [1.00000e+00, 4.00000e+00, 1.60000e+01, 6.40000e+01],\n",
       "       [1.00000e+00, 5.00000e+00, 2.50000e+01, 1.25000e+02],\n",
       "       [1.00000e+00, 6.00000e+00, 3.60000e+01, 2.16000e+02],\n",
       "       [1.00000e+00, 7.00000e+00, 4.90000e+01, 3.43000e+02],\n",
       "       [1.00000e+00, 8.00000e+00, 6.40000e+01, 5.12000e+02],\n",
       "       [1.00000e+00, 9.00000e+00, 8.10000e+01, 7.29000e+02],\n",
       "       [1.00000e+00, 1.00000e+01, 1.00000e+02, 1.00000e+03],\n",
       "       [1.00000e+00, 1.10000e+01, 1.21000e+02, 1.33100e+03],\n",
       "       [1.00000e+00, 1.20000e+01, 1.44000e+02, 1.72800e+03],\n",
       "       [1.00000e+00, 1.30000e+01, 1.69000e+02, 2.19700e+03],\n",
       "       [1.00000e+00, 1.40000e+01, 1.96000e+02, 2.74400e+03],\n",
       "       [1.00000e+00, 1.50000e+01, 2.25000e+02, 3.37500e+03],\n",
       "       [1.00000e+00, 1.60000e+01, 2.56000e+02, 4.09600e+03],\n",
       "       [1.00000e+00, 1.70000e+01, 2.89000e+02, 4.91300e+03],\n",
       "       [1.00000e+00, 1.80000e+01, 3.24000e+02, 5.83200e+03],\n",
       "       [1.00000e+00, 1.90000e+01, 3.61000e+02, 6.85900e+03],\n",
       "       [1.00000e+00, 2.00000e+01, 4.00000e+02, 8.00000e+03],\n",
       "       [1.00000e+00, 2.10000e+01, 4.41000e+02, 9.26100e+03],\n",
       "       [1.00000e+00, 2.20000e+01, 4.84000e+02, 1.06480e+04],\n",
       "       [1.00000e+00, 2.30000e+01, 5.29000e+02, 1.21670e+04],\n",
       "       [1.00000e+00, 2.40000e+01, 5.76000e+02, 1.38240e+04],\n",
       "       [1.00000e+00, 2.50000e+01, 6.25000e+02, 1.56250e+04],\n",
       "       [1.00000e+00, 2.60000e+01, 6.76000e+02, 1.75760e+04],\n",
       "       [1.00000e+00, 2.70000e+01, 7.29000e+02, 1.96830e+04],\n",
       "       [1.00000e+00, 2.80000e+01, 7.84000e+02, 2.19520e+04],\n",
       "       [1.00000e+00, 2.90000e+01, 8.41000e+02, 2.43890e+04],\n",
       "       [1.00000e+00, 3.00000e+01, 9.00000e+02, 2.70000e+04],\n",
       "       [1.00000e+00, 3.10000e+01, 9.61000e+02, 2.97910e+04],\n",
       "       [1.00000e+00, 3.20000e+01, 1.02400e+03, 3.27680e+04],\n",
       "       [1.00000e+00, 3.30000e+01, 1.08900e+03, 3.59370e+04],\n",
       "       [1.00000e+00, 3.40000e+01, 1.15600e+03, 3.93040e+04],\n",
       "       [1.00000e+00, 3.50000e+01, 1.22500e+03, 4.28750e+04],\n",
       "       [1.00000e+00, 3.60000e+01, 1.29600e+03, 4.66560e+04],\n",
       "       [1.00000e+00, 3.70000e+01, 1.36900e+03, 5.06530e+04],\n",
       "       [1.00000e+00, 3.80000e+01, 1.44400e+03, 5.48720e+04],\n",
       "       [1.00000e+00, 3.90000e+01, 1.52100e+03, 5.93190e+04],\n",
       "       [1.00000e+00, 4.00000e+01, 1.60000e+03, 6.40000e+04],\n",
       "       [1.00000e+00, 4.10000e+01, 1.68100e+03, 6.89210e+04],\n",
       "       [1.00000e+00, 4.20000e+01, 1.76400e+03, 7.40880e+04],\n",
       "       [1.00000e+00, 4.30000e+01, 1.84900e+03, 7.95070e+04],\n",
       "       [1.00000e+00, 4.40000e+01, 1.93600e+03, 8.51840e+04],\n",
       "       [1.00000e+00, 4.50000e+01, 2.02500e+03, 9.11250e+04],\n",
       "       [1.00000e+00, 4.60000e+01, 2.11600e+03, 9.73360e+04],\n",
       "       [1.00000e+00, 4.70000e+01, 2.20900e+03, 1.03823e+05],\n",
       "       [1.00000e+00, 4.80000e+01, 2.30400e+03, 1.10592e+05],\n",
       "       [1.00000e+00, 4.90000e+01, 2.40100e+03, 1.17649e+05],\n",
       "       [1.00000e+00, 5.00000e+01, 2.50000e+03, 1.25000e+05],\n",
       "       [1.00000e+00, 5.10000e+01, 2.60100e+03, 1.32651e+05],\n",
       "       [1.00000e+00, 5.20000e+01, 2.70400e+03, 1.40608e+05],\n",
       "       [1.00000e+00, 5.30000e+01, 2.80900e+03, 1.48877e+05],\n",
       "       [1.00000e+00, 5.40000e+01, 2.91600e+03, 1.57464e+05],\n",
       "       [1.00000e+00, 5.50000e+01, 3.02500e+03, 1.66375e+05],\n",
       "       [1.00000e+00, 5.60000e+01, 3.13600e+03, 1.75616e+05],\n",
       "       [1.00000e+00, 5.70000e+01, 3.24900e+03, 1.85193e+05],\n",
       "       [1.00000e+00, 5.80000e+01, 3.36400e+03, 1.95112e+05],\n",
       "       [1.00000e+00, 5.90000e+01, 3.48100e+03, 2.05379e+05],\n",
       "       [1.00000e+00, 6.00000e+01, 3.60000e+03, 2.16000e+05],\n",
       "       [1.00000e+00, 6.10000e+01, 3.72100e+03, 2.26981e+05],\n",
       "       [1.00000e+00, 6.20000e+01, 3.84400e+03, 2.38328e+05],\n",
       "       [1.00000e+00, 6.30000e+01, 3.96900e+03, 2.50047e+05],\n",
       "       [1.00000e+00, 6.40000e+01, 4.09600e+03, 2.62144e+05],\n",
       "       [1.00000e+00, 6.50000e+01, 4.22500e+03, 2.74625e+05],\n",
       "       [1.00000e+00, 6.60000e+01, 4.35600e+03, 2.87496e+05],\n",
       "       [1.00000e+00, 6.70000e+01, 4.48900e+03, 3.00763e+05],\n",
       "       [1.00000e+00, 6.80000e+01, 4.62400e+03, 3.14432e+05],\n",
       "       [1.00000e+00, 6.90000e+01, 4.76100e+03, 3.28509e+05],\n",
       "       [1.00000e+00, 7.00000e+01, 4.90000e+03, 3.43000e+05],\n",
       "       [1.00000e+00, 7.10000e+01, 5.04100e+03, 3.57911e+05],\n",
       "       [1.00000e+00, 7.20000e+01, 5.18400e+03, 3.73248e+05],\n",
       "       [1.00000e+00, 7.30000e+01, 5.32900e+03, 3.89017e+05],\n",
       "       [1.00000e+00, 7.40000e+01, 5.47600e+03, 4.05224e+05],\n",
       "       [1.00000e+00, 7.50000e+01, 5.62500e+03, 4.21875e+05],\n",
       "       [1.00000e+00, 7.60000e+01, 5.77600e+03, 4.38976e+05],\n",
       "       [1.00000e+00, 7.70000e+01, 5.92900e+03, 4.56533e+05],\n",
       "       [1.00000e+00, 7.80000e+01, 6.08400e+03, 4.74552e+05],\n",
       "       [1.00000e+00, 7.90000e+01, 6.24100e+03, 4.93039e+05],\n",
       "       [1.00000e+00, 8.00000e+01, 6.40000e+03, 5.12000e+05],\n",
       "       [1.00000e+00, 8.10000e+01, 6.56100e+03, 5.31441e+05],\n",
       "       [1.00000e+00, 8.20000e+01, 6.72400e+03, 5.51368e+05],\n",
       "       [1.00000e+00, 8.30000e+01, 6.88900e+03, 5.71787e+05],\n",
       "       [1.00000e+00, 8.40000e+01, 7.05600e+03, 5.92704e+05],\n",
       "       [1.00000e+00, 8.50000e+01, 7.22500e+03, 6.14125e+05],\n",
       "       [1.00000e+00, 8.60000e+01, 7.39600e+03, 6.36056e+05],\n",
       "       [1.00000e+00, 8.70000e+01, 7.56900e+03, 6.58503e+05],\n",
       "       [1.00000e+00, 8.80000e+01, 7.74400e+03, 6.81472e+05],\n",
       "       [1.00000e+00, 8.90000e+01, 7.92100e+03, 7.04969e+05],\n",
       "       [1.00000e+00, 9.00000e+01, 8.10000e+03, 7.29000e+05],\n",
       "       [1.00000e+00, 9.10000e+01, 8.28100e+03, 7.53571e+05],\n",
       "       [1.00000e+00, 9.20000e+01, 8.46400e+03, 7.78688e+05],\n",
       "       [1.00000e+00, 9.30000e+01, 8.64900e+03, 8.04357e+05],\n",
       "       [1.00000e+00, 9.40000e+01, 8.83600e+03, 8.30584e+05],\n",
       "       [1.00000e+00, 9.50000e+01, 9.02500e+03, 8.57375e+05],\n",
       "       [1.00000e+00, 9.60000e+01, 9.21600e+03, 8.84736e+05],\n",
       "       [1.00000e+00, 9.70000e+01, 9.40900e+03, 9.12673e+05],\n",
       "       [1.00000e+00, 9.80000e+01, 9.60400e+03, 9.41192e+05],\n",
       "       [1.00000e+00, 9.90000e+01, 9.80100e+03, 9.70299e+05],\n",
       "       [1.00000e+00, 1.00000e+02, 1.00000e+04, 1.00000e+06]])"
      ]
     },
     "execution_count": 195,
     "metadata": {},
     "output_type": "execute_result"
    }
   ],
   "source": [
    "x"
   ]
  },
  {
   "cell_type": "code",
   "execution_count": 184,
   "metadata": {},
   "outputs": [],
   "source": [
    "from sklearn.model_selection import train_test_split"
   ]
  },
  {
   "cell_type": "code",
   "execution_count": 185,
   "metadata": {},
   "outputs": [],
   "source": [
    "x_train,x_test,y_train,y_test=train_test_split(x,y,test_size=0.2,random_state=21)"
   ]
  },
  {
   "cell_type": "code",
   "execution_count": 186,
   "metadata": {},
   "outputs": [],
   "source": [
    "from sklearn.linear_model import LinearRegression"
   ]
  },
  {
   "cell_type": "code",
   "execution_count": 187,
   "metadata": {},
   "outputs": [],
   "source": [
    "lr=LinearRegression()"
   ]
  },
  {
   "cell_type": "code",
   "execution_count": 188,
   "metadata": {},
   "outputs": [
    {
     "data": {
      "text/html": [
       "<style>#sk-container-id-15 {color: black;}#sk-container-id-15 pre{padding: 0;}#sk-container-id-15 div.sk-toggleable {background-color: white;}#sk-container-id-15 label.sk-toggleable__label {cursor: pointer;display: block;width: 100%;margin-bottom: 0;padding: 0.3em;box-sizing: border-box;text-align: center;}#sk-container-id-15 label.sk-toggleable__label-arrow:before {content: \"▸\";float: left;margin-right: 0.25em;color: #696969;}#sk-container-id-15 label.sk-toggleable__label-arrow:hover:before {color: black;}#sk-container-id-15 div.sk-estimator:hover label.sk-toggleable__label-arrow:before {color: black;}#sk-container-id-15 div.sk-toggleable__content {max-height: 0;max-width: 0;overflow: hidden;text-align: left;background-color: #f0f8ff;}#sk-container-id-15 div.sk-toggleable__content pre {margin: 0.2em;color: black;border-radius: 0.25em;background-color: #f0f8ff;}#sk-container-id-15 input.sk-toggleable__control:checked~div.sk-toggleable__content {max-height: 200px;max-width: 100%;overflow: auto;}#sk-container-id-15 input.sk-toggleable__control:checked~label.sk-toggleable__label-arrow:before {content: \"▾\";}#sk-container-id-15 div.sk-estimator input.sk-toggleable__control:checked~label.sk-toggleable__label {background-color: #d4ebff;}#sk-container-id-15 div.sk-label input.sk-toggleable__control:checked~label.sk-toggleable__label {background-color: #d4ebff;}#sk-container-id-15 input.sk-hidden--visually {border: 0;clip: rect(1px 1px 1px 1px);clip: rect(1px, 1px, 1px, 1px);height: 1px;margin: -1px;overflow: hidden;padding: 0;position: absolute;width: 1px;}#sk-container-id-15 div.sk-estimator {font-family: monospace;background-color: #f0f8ff;border: 1px dotted black;border-radius: 0.25em;box-sizing: border-box;margin-bottom: 0.5em;}#sk-container-id-15 div.sk-estimator:hover {background-color: #d4ebff;}#sk-container-id-15 div.sk-parallel-item::after {content: \"\";width: 100%;border-bottom: 1px solid gray;flex-grow: 1;}#sk-container-id-15 div.sk-label:hover label.sk-toggleable__label {background-color: #d4ebff;}#sk-container-id-15 div.sk-serial::before {content: \"\";position: absolute;border-left: 1px solid gray;box-sizing: border-box;top: 0;bottom: 0;left: 50%;z-index: 0;}#sk-container-id-15 div.sk-serial {display: flex;flex-direction: column;align-items: center;background-color: white;padding-right: 0.2em;padding-left: 0.2em;position: relative;}#sk-container-id-15 div.sk-item {position: relative;z-index: 1;}#sk-container-id-15 div.sk-parallel {display: flex;align-items: stretch;justify-content: center;background-color: white;position: relative;}#sk-container-id-15 div.sk-item::before, #sk-container-id-15 div.sk-parallel-item::before {content: \"\";position: absolute;border-left: 1px solid gray;box-sizing: border-box;top: 0;bottom: 0;left: 50%;z-index: -1;}#sk-container-id-15 div.sk-parallel-item {display: flex;flex-direction: column;z-index: 1;position: relative;background-color: white;}#sk-container-id-15 div.sk-parallel-item:first-child::after {align-self: flex-end;width: 50%;}#sk-container-id-15 div.sk-parallel-item:last-child::after {align-self: flex-start;width: 50%;}#sk-container-id-15 div.sk-parallel-item:only-child::after {width: 0;}#sk-container-id-15 div.sk-dashed-wrapped {border: 1px dashed gray;margin: 0 0.4em 0.5em 0.4em;box-sizing: border-box;padding-bottom: 0.4em;background-color: white;}#sk-container-id-15 div.sk-label label {font-family: monospace;font-weight: bold;display: inline-block;line-height: 1.2em;}#sk-container-id-15 div.sk-label-container {text-align: center;}#sk-container-id-15 div.sk-container {/* jupyter's `normalize.less` sets `[hidden] { display: none; }` but bootstrap.min.css set `[hidden] { display: none !important; }` so we also need the `!important` here to be able to override the default hidden behavior on the sphinx rendered scikit-learn.org. See: https://github.com/scikit-learn/scikit-learn/issues/21755 */display: inline-block !important;position: relative;}#sk-container-id-15 div.sk-text-repr-fallback {display: none;}</style><div id=\"sk-container-id-15\" class=\"sk-top-container\"><div class=\"sk-text-repr-fallback\"><pre>LinearRegression()</pre><b>In a Jupyter environment, please rerun this cell to show the HTML representation or trust the notebook. <br />On GitHub, the HTML representation is unable to render, please try loading this page with nbviewer.org.</b></div><div class=\"sk-container\" hidden><div class=\"sk-item\"><div class=\"sk-estimator sk-toggleable\"><input class=\"sk-toggleable__control sk-hidden--visually\" id=\"sk-estimator-id-15\" type=\"checkbox\" checked><label for=\"sk-estimator-id-15\" class=\"sk-toggleable__label sk-toggleable__label-arrow\">LinearRegression</label><div class=\"sk-toggleable__content\"><pre>LinearRegression()</pre></div></div></div></div></div>"
      ],
      "text/plain": [
       "LinearRegression()"
      ]
     },
     "execution_count": 188,
     "metadata": {},
     "output_type": "execute_result"
    }
   ],
   "source": [
    "lr.fit(x_train,y_train)"
   ]
  },
  {
   "cell_type": "code",
   "execution_count": 189,
   "metadata": {},
   "outputs": [
    {
     "data": {
      "text/plain": [
       "0.9945912012843167"
      ]
     },
     "execution_count": 189,
     "metadata": {},
     "output_type": "execute_result"
    }
   ],
   "source": [
    "lr.score(x_test,y_test)"
   ]
  },
  {
   "cell_type": "code",
   "execution_count": 190,
   "metadata": {},
   "outputs": [],
   "source": [
    "prd=lr.predict(x)"
   ]
  },
  {
   "cell_type": "code",
   "execution_count": 191,
   "metadata": {},
   "outputs": [
    {
     "data": {
      "image/png": "[encoded data removed]",
      "text/plain": [
       "<Figure size 640x480 with 1 Axes>"
      ]
     },
     "metadata": {},
     "output_type": "display_data"
    }
   ],
   "source": [
    "sns.scatterplot(x='Level', y='Salary', data=dataset)\n",
    "plt.xlabel('Level')\n",
    "plt.ylabel('Salary')\n",
    "\n",
    "plt.plot(dataset[\"Level\"],prd,color='red')\n",
    "plt.legend(['Actual', 'Predicted'])\n",
    "plt.show()"
   ]
  },
  {
   "cell_type": "code",
   "execution_count": 192,
   "metadata": {},
   "outputs": [],
   "source": [
    "#y=m1x2+m2x2^2+m3x3^3+c;"
   ]
  },
  {
   "cell_type": "code",
   "execution_count": 205,
   "metadata": {},
   "outputs": [
    {
     "data": {
      "text/plain": [
       "array([ 0.00000000e+00, -1.30537677e+05,  6.55613334e+03, -4.37085412e+01])"
      ]
     },
     "execution_count": 205,
     "metadata": {},
     "output_type": "execute_result"
    }
   ],
   "source": [
    "lr.coef_"
   ]
  },
  {
   "cell_type": "code",
   "execution_count": 206,
   "metadata": {},
   "outputs": [
    {
     "data": {
      "text/plain": [
       "620619.1854814813"
      ]
     },
     "execution_count": 206,
     "metadata": {},
     "output_type": "execute_result"
    }
   ],
   "source": [
    "lr.intercept_"
   ]
  },
  {
   "cell_type": "code",
   "execution_count": null,
   "metadata": {},
   "outputs": [],
   "source": []
  },
  {
   "cell_type": "code",
   "execution_count": 202,
   "metadata": {},
   "outputs": [
    {
     "data": {
      "text/plain": [
       "384893.94648948126"
      ]
     },
     "execution_count": 202,
     "metadata": {},
     "output_type": "execute_result"
    }
   ],
   "source": [
    "y"
   ]
  },
  {
   "cell_type": "code",
   "execution_count": 204,
   "metadata": {},
   "outputs": [
    {
     "name": "stdout",
     "output_type": "stream",
     "text": [
      "408479.1903934813\n"
     ]
    }
   ],
   "source": [
    "# Define the constants\n",
    "a = -1.30537677e+05\n",
    "b = 6.55613334e+03\n",
    "c = -1.09302294e+02\n",
    "d = 620619.1854814813\n",
    "\n",
    "# Define the variables\n",
    "x1 = 2.00000\n",
    "x2 = 4.00000\n",
    "x3 = 8.00000\n",
    "\n",
    "# Calculate y using the power operator (**)\n",
    "y = (a * (x1 ** 1)) + (b * (x2 ** 2)) + (c * (x3 ** 3)) + d\n",
    "\n",
    "# Print the result\n",
    "print(y)\n"
   ]
  },
  {
   "cell_type": "code",
   "execution_count": null,
   "metadata": {},
   "outputs": [],
   "source": []
  }
 ],
 "metadata": {
  "kernelspec": {
   "display_name": "Python 3 (ipykernel)",
   "language": "python",
   "name": "python3"
  },
  "language_info": {
   "codemirror_mode": {
    "name": "ipython",
    "version": 3
   },
   "file_extension": ".py",
   "mimetype": "text/x-python",
   "name": "python",
   "nbconvert_exporter": "python",
   "pygments_lexer": "ipython3",
   "version": "3.11.4"
  }
 },
 "nbformat": 4,
 "nbformat_minor": 2
}
