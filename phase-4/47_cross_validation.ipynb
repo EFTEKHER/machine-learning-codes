{
 "cells": [
  {
   "cell_type": "code",
   "execution_count": 1,
   "metadata": {},
   "outputs": [],
   "source": [
    "import pandas as pd \n",
    "import numpy as np\n",
    "import matplotlib.pyplot as plt\n",
    "import seaborn as sns\n",
    "from sklearn.model_selection import train_test_split\n",
    "from mlxtend.plotting import plot_decision_regions"
   ]
  },
  {
   "cell_type": "code",
   "execution_count": 7,
   "metadata": {},
   "outputs": [],
   "source": [
    "dataset=pd.read_csv('./placement.csv')"
   ]
  },
  {
   "cell_type": "code",
   "execution_count": 8,
   "metadata": {},
   "outputs": [
    {
     "data": {
      "text/html": [
       "<div>\n",
       "<style scoped>\n",
       "    .dataframe tbody tr th:only-of-type {\n",
       "        vertical-align: middle;\n",
       "    }\n",
       "\n",
       "    .dataframe tbody tr th {\n",
       "        vertical-align: top;\n",
       "    }\n",
       "\n",
       "    .dataframe thead th {\n",
       "        text-align: right;\n",
       "    }\n",
       "</style>\n",
       "<table border=\"1\" class=\"dataframe\">\n",
       "  <thead>\n",
       "    <tr style=\"text-align: right;\">\n",
       "      <th></th>\n",
       "      <th>cgpa</th>\n",
       "      <th>package</th>\n",
       "    </tr>\n",
       "  </thead>\n",
       "  <tbody>\n",
       "    <tr>\n",
       "      <th>0</th>\n",
       "      <td>6.89</td>\n",
       "      <td>3.26</td>\n",
       "    </tr>\n",
       "    <tr>\n",
       "      <th>1</th>\n",
       "      <td>5.12</td>\n",
       "      <td>1.98</td>\n",
       "    </tr>\n",
       "    <tr>\n",
       "      <th>2</th>\n",
       "      <td>7.82</td>\n",
       "      <td>3.25</td>\n",
       "    </tr>\n",
       "    <tr>\n",
       "      <th>3</th>\n",
       "      <td>7.42</td>\n",
       "      <td>3.67</td>\n",
       "    </tr>\n",
       "    <tr>\n",
       "      <th>4</th>\n",
       "      <td>6.94</td>\n",
       "      <td>3.57</td>\n",
       "    </tr>\n",
       "  </tbody>\n",
       "</table>\n",
       "</div>"
      ],
      "text/plain": [
       "   cgpa  package\n",
       "0  6.89     3.26\n",
       "1  5.12     1.98\n",
       "2  7.82     3.25\n",
       "3  7.42     3.67\n",
       "4  6.94     3.57"
      ]
     },
     "execution_count": 8,
     "metadata": {},
     "output_type": "execute_result"
    }
   ],
   "source": [
    "dataset.head()"
   ]
  },
  {
   "cell_type": "code",
   "execution_count": null,
   "metadata": {},
   "outputs": [],
   "source": []
  },
  {
   "cell_type": "code",
   "execution_count": 35,
   "metadata": {},
   "outputs": [],
   "source": [
    "x=dataset.iloc[:,:-1]\n",
    "y=  dataset['package']"
   ]
  },
  {
   "cell_type": "code",
   "execution_count": 36,
   "metadata": {},
   "outputs": [],
   "source": [
    "new_data=dataset.head(10)"
   ]
  },
  {
   "cell_type": "code",
   "execution_count": 37,
   "metadata": {},
   "outputs": [],
   "source": [
    "from sklearn.model_selection import LeaveOneOut,LeavePOut,KFold,StratifiedKFold"
   ]
  },
  {
   "cell_type": "code",
   "execution_count": 38,
   "metadata": {},
   "outputs": [],
   "source": [
    "x_new=new_data.iloc[:,:-1]\n",
    "y_new=new_data['package']"
   ]
  },
  {
   "cell_type": "code",
   "execution_count": null,
   "metadata": {},
   "outputs": [],
   "source": []
  },
  {
   "cell_type": "code",
   "execution_count": 39,
   "metadata": {},
   "outputs": [],
   "source": [
    "lo=LeaveOneOut()"
   ]
  },
  {
   "cell_type": "code",
   "execution_count": 40,
   "metadata": {},
   "outputs": [
    {
     "name": "stdout",
     "output_type": "stream",
     "text": [
      "train [1 2 3 4 5 6 7 8 9]\n",
      "test [0]\n",
      "-------------------\n",
      "train [0 2 3 4 5 6 7 8 9]\n",
      "test [1]\n",
      "-------------------\n",
      "train [0 1 3 4 5 6 7 8 9]\n",
      "test [2]\n",
      "-------------------\n",
      "train [0 1 2 4 5 6 7 8 9]\n",
      "test [3]\n",
      "-------------------\n",
      "train [0 1 2 3 5 6 7 8 9]\n",
      "test [4]\n",
      "-------------------\n",
      "train [0 1 2 3 4 6 7 8 9]\n",
      "test [5]\n",
      "-------------------\n",
      "train [0 1 2 3 4 5 7 8 9]\n",
      "test [6]\n",
      "-------------------\n",
      "train [0 1 2 3 4 5 6 8 9]\n",
      "test [7]\n",
      "-------------------\n",
      "train [0 1 2 3 4 5 6 7 9]\n",
      "test [8]\n",
      "-------------------\n",
      "train [0 1 2 3 4 5 6 7 8]\n",
      "test [9]\n",
      "-------------------\n"
     ]
    }
   ],
   "source": [
    "for train,test in lo.split(x_new,y_new):\n",
    "    print('train',train)\n",
    "    print('test',test)\n",
    "    print('-------------------')"
   ]
  },
  {
   "cell_type": "code",
   "execution_count": 41,
   "metadata": {},
   "outputs": [
    {
     "name": "stdout",
     "output_type": "stream",
     "text": [
      "train [2 3 4 5 6 7 8 9]\n",
      "test [0 1]\n",
      "-------------------\n",
      "train [1 3 4 5 6 7 8 9]\n",
      "test [0 2]\n",
      "-------------------\n",
      "train [1 2 4 5 6 7 8 9]\n",
      "test [0 3]\n",
      "-------------------\n",
      "train [1 2 3 5 6 7 8 9]\n",
      "test [0 4]\n",
      "-------------------\n",
      "train [1 2 3 4 6 7 8 9]\n",
      "test [0 5]\n",
      "-------------------\n",
      "train [1 2 3 4 5 7 8 9]\n",
      "test [0 6]\n",
      "-------------------\n",
      "train [1 2 3 4 5 6 8 9]\n",
      "test [0 7]\n",
      "-------------------\n",
      "train [1 2 3 4 5 6 7 9]\n",
      "test [0 8]\n",
      "-------------------\n",
      "train [1 2 3 4 5 6 7 8]\n",
      "test [0 9]\n",
      "-------------------\n",
      "train [0 3 4 5 6 7 8 9]\n",
      "test [1 2]\n",
      "-------------------\n",
      "train [0 2 4 5 6 7 8 9]\n",
      "test [1 3]\n",
      "-------------------\n",
      "train [0 2 3 5 6 7 8 9]\n",
      "test [1 4]\n",
      "-------------------\n",
      "train [0 2 3 4 6 7 8 9]\n",
      "test [1 5]\n",
      "-------------------\n",
      "train [0 2 3 4 5 7 8 9]\n",
      "test [1 6]\n",
      "-------------------\n",
      "train [0 2 3 4 5 6 8 9]\n",
      "test [1 7]\n",
      "-------------------\n",
      "train [0 2 3 4 5 6 7 9]\n",
      "test [1 8]\n",
      "-------------------\n",
      "train [0 2 3 4 5 6 7 8]\n",
      "test [1 9]\n",
      "-------------------\n",
      "train [0 1 4 5 6 7 8 9]\n",
      "test [2 3]\n",
      "-------------------\n",
      "train [0 1 3 5 6 7 8 9]\n",
      "test [2 4]\n",
      "-------------------\n",
      "train [0 1 3 4 6 7 8 9]\n",
      "test [2 5]\n",
      "-------------------\n",
      "train [0 1 3 4 5 7 8 9]\n",
      "test [2 6]\n",
      "-------------------\n",
      "train [0 1 3 4 5 6 8 9]\n",
      "test [2 7]\n",
      "-------------------\n",
      "train [0 1 3 4 5 6 7 9]\n",
      "test [2 8]\n",
      "-------------------\n",
      "train [0 1 3 4 5 6 7 8]\n",
      "test [2 9]\n",
      "-------------------\n",
      "train [0 1 2 5 6 7 8 9]\n",
      "test [3 4]\n",
      "-------------------\n",
      "train [0 1 2 4 6 7 8 9]\n",
      "test [3 5]\n",
      "-------------------\n",
      "train [0 1 2 4 5 7 8 9]\n",
      "test [3 6]\n",
      "-------------------\n",
      "train [0 1 2 4 5 6 8 9]\n",
      "test [3 7]\n",
      "-------------------\n",
      "train [0 1 2 4 5 6 7 9]\n",
      "test [3 8]\n",
      "-------------------\n",
      "train [0 1 2 4 5 6 7 8]\n",
      "test [3 9]\n",
      "-------------------\n",
      "train [0 1 2 3 6 7 8 9]\n",
      "test [4 5]\n",
      "-------------------\n",
      "train [0 1 2 3 5 7 8 9]\n",
      "test [4 6]\n",
      "-------------------\n",
      "train [0 1 2 3 5 6 8 9]\n",
      "test [4 7]\n",
      "-------------------\n",
      "train [0 1 2 3 5 6 7 9]\n",
      "test [4 8]\n",
      "-------------------\n",
      "train [0 1 2 3 5 6 7 8]\n",
      "test [4 9]\n",
      "-------------------\n",
      "train [0 1 2 3 4 7 8 9]\n",
      "test [5 6]\n",
      "-------------------\n",
      "train [0 1 2 3 4 6 8 9]\n",
      "test [5 7]\n",
      "-------------------\n",
      "train [0 1 2 3 4 6 7 9]\n",
      "test [5 8]\n",
      "-------------------\n",
      "train [0 1 2 3 4 6 7 8]\n",
      "test [5 9]\n",
      "-------------------\n",
      "train [0 1 2 3 4 5 8 9]\n",
      "test [6 7]\n",
      "-------------------\n",
      "train [0 1 2 3 4 5 7 9]\n",
      "test [6 8]\n",
      "-------------------\n",
      "train [0 1 2 3 4 5 7 8]\n",
      "test [6 9]\n",
      "-------------------\n",
      "train [0 1 2 3 4 5 6 9]\n",
      "test [7 8]\n",
      "-------------------\n",
      "train [0 1 2 3 4 5 6 8]\n",
      "test [7 9]\n",
      "-------------------\n",
      "train [0 1 2 3 4 5 6 7]\n",
      "test [8 9]\n",
      "-------------------\n"
     ]
    }
   ],
   "source": [
    "lp=LeavePOut(p=2)\n",
    "\n",
    "for train,test in lp.split(x_new,y_new):\n",
    "    print('train',train)\n",
    "    print('test',test)\n",
    "    print('-------------------')"
   ]
  },
  {
   "cell_type": "code",
   "execution_count": 42,
   "metadata": {},
   "outputs": [
    {
     "name": "stdout",
     "output_type": "stream",
     "text": [
      "train [2 3 4 5 6 7 8 9]\n",
      "test [0 1]\n",
      "-------------------\n",
      "train [0 1 4 5 6 7 8 9]\n",
      "test [2 3]\n",
      "-------------------\n",
      "train [0 1 2 3 6 7 8 9]\n",
      "test [4 5]\n",
      "-------------------\n",
      "train [0 1 2 3 4 5 8 9]\n",
      "test [6 7]\n",
      "-------------------\n",
      "train [0 1 2 3 4 5 6 7]\n",
      "test [8 9]\n",
      "-------------------\n"
     ]
    }
   ],
   "source": [
    "kf=KFold(n_splits=5)\n",
    "\n",
    "for train,test  in kf.split(x_new,y_new):\n",
    "    print('train',train)\n",
    "    print('test',test)\n",
    "    print('-------------------')"
   ]
  },
  {
   "cell_type": "code",
   "execution_count": 43,
   "metadata": {},
   "outputs": [],
   "source": [
    "# st=StratifiedKFold(n_splits=5)\n",
    "\n",
    "# for train,test  in st.split(x_new,y_new):\n",
    "#     print('train',train)\n",
    "#     print('test',test)\n",
    "#     print('-------------------')\n"
   ]
  },
  {
   "cell_type": "code",
   "execution_count": 44,
   "metadata": {},
   "outputs": [],
   "source": [
    "from sklearn.model_selection import cross_val_score"
   ]
  },
  {
   "cell_type": "code",
   "execution_count": 45,
   "metadata": {},
   "outputs": [],
   "source": [
    "from sklearn.linear_model import LogisticRegression"
   ]
  },
  {
   "cell_type": "code",
   "execution_count": 46,
   "metadata": {},
   "outputs": [],
   "source": [
    "from sklearn.svm import SVR"
   ]
  },
  {
   "cell_type": "code",
   "execution_count": 55,
   "metadata": {},
   "outputs": [],
   "source": [
    "from sklearn.tree import DecisionTreeRegressor"
   ]
  },
  {
   "cell_type": "code",
   "execution_count": 47,
   "metadata": {},
   "outputs": [],
   "source": [
    "from sklearn.ensemble import RandomForestRegressor"
   ]
  },
  {
   "cell_type": "code",
   "execution_count": 48,
   "metadata": {},
   "outputs": [],
   "source": [
    "from sklearn.linear_model import LinearRegression"
   ]
  },
  {
   "cell_type": "code",
   "execution_count": 65,
   "metadata": {},
   "outputs": [
    {
     "data": {
      "text/plain": [
       "array([0.65607733, 0.81109125, 0.79272659, 0.78170388, 0.85105282,\n",
       "       0.71730765, 0.75873584, 0.55321381, 0.8162863 , 0.70647335,\n",
       "       0.64263203, 0.71828236])"
      ]
     },
     "execution_count": 65,
     "metadata": {},
     "output_type": "execute_result"
    }
   ],
   "source": [
    "cross_val_score(LinearRegression(),x,y,cv=KFold(n_splits=12))"
   ]
  },
  {
   "cell_type": "code",
   "execution_count": 66,
   "metadata": {},
   "outputs": [
    {
     "data": {
      "text/plain": [
       "array([0.61955958, 0.77522624, 0.74178636, 0.80272996, 0.80938592,\n",
       "       0.72351076, 0.78669229, 0.51558159, 0.81638632, 0.73587917,\n",
       "       0.60833431, 0.71746417])"
      ]
     },
     "execution_count": 66,
     "metadata": {},
     "output_type": "execute_result"
    }
   ],
   "source": [
    "cross_val_score(SVR(),x,y,cv=KFold(n_splits=12))"
   ]
  },
  {
   "cell_type": "code",
   "execution_count": 71,
   "metadata": {},
   "outputs": [
    {
     "data": {
      "text/plain": [
       "array([0.43928473, 0.4591763 , 0.54179739, 0.55067287, 0.64102714,\n",
       "       0.65907397, 0.6804184 , 0.68816837, 0.68900925, 0.69232851,\n",
       "       0.70947807, 0.73263246])"
      ]
     },
     "execution_count": 71,
     "metadata": {},
     "output_type": "execute_result"
    }
   ],
   "source": [
    "p=cross_val_score(RandomForestRegressor(),x,y,cv=KFold(n_splits=12))\n",
    "p.sort()\n",
    "p"
   ]
  },
  {
   "cell_type": "code",
   "execution_count": 73,
   "metadata": {},
   "outputs": [
    {
     "data": {
      "text/plain": [
       "array([0.34297124, 0.56269226, 0.61691488, 0.62167462, 0.63975593,\n",
       "       0.55994921, 0.62855899, 0.39519471, 0.59708798, 0.35298295,\n",
       "       0.4084877 , 0.55125025])"
      ]
     },
     "execution_count": 73,
     "metadata": {},
     "output_type": "execute_result"
    }
   ],
   "source": [
    "cross_val_score(DecisionTreeRegressor(),x,y,cv=KFold(n_splits=12))"
   ]
  },
  {
   "cell_type": "code",
   "execution_count": 74,
   "metadata": {},
   "outputs": [],
   "source": [
    "from sklearn.neighbors import KNeighborsRegressor"
   ]
  },
  {
   "cell_type": "code",
   "execution_count": 78,
   "metadata": {},
   "outputs": [
    {
     "data": {
      "text/plain": [
       "array([ 0.17607668,  0.67013097,  0.66377351,  0.80100579,  0.69577399,\n",
       "        0.71546173,  0.80869397,  0.70533279,  0.7887696 ,  0.26907197,\n",
       "        0.72800937,  0.60551679,  0.67098135,  0.30601277,  0.85125982,\n",
       "        0.74205266,  0.62674456, -0.03181098,  0.64113406,  0.73930071])"
      ]
     },
     "execution_count": 78,
     "metadata": {},
     "output_type": "execute_result"
    }
   ],
   "source": [
    "cross_val_score(KNeighborsRegressor(),x,y,cv=KFold(n_splits=20))"
   ]
  },
  {
   "cell_type": "code",
   "execution_count": null,
   "metadata": {},
   "outputs": [],
   "source": []
  }
 ],
 "metadata": {
  "kernelspec": {
   "display_name": "Python 3 (ipykernel)",
   "language": "python",
   "name": "python3"
  }
 },
 "nbformat": 4,
 "nbformat_minor": 2
}
