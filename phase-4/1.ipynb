{
 "cells": [
  {
   "cell_type": "code",
   "execution_count": 1,
   "metadata": {},
   "outputs": [
    {
     "name": "stdout",
     "output_type": "stream",
     "text": [
      "CSV file saved as combined_levels_salaries_data.csv\n"
     ]
    }
   ],
   "source": [
    "import numpy as np\n",
    "import pandas as pd\n",
    "\n",
    "# Define the original dataset\n",
    "levels = np.arange(1, 11)\n",
    "salaries = [\n",
    "    45000, 50000, 60000, 80000, 110000, 150000, 200000, 300000, 500000, 1000000\n",
    "]\n",
    "\n",
    "# Create the dataframe for the original data\n",
    "data_original = pd.DataFrame({\n",
    "    'Level': levels,\n",
    "    'Salary': salaries\n",
    "})\n",
    "\n",
    "# Define the number of additional data points\n",
    "additional_points = 1000\n",
    "\n",
    "# Generate additional levels from 11 to 1010\n",
    "additional_levels = np.arange(11, 11 + additional_points)\n",
    "\n",
    "# Polynomial coefficients for salary calculation\n",
    "coefficients = [1e-6, -1e-3, 0.5, 10000]\n",
    "\n",
    "# Generate additional salaries with a polynomial relationship and add variation\n",
    "additional_salaries = np.polyval(coefficients, additional_levels)\n",
    "\n",
    "# Add some random noise to introduce variation\n",
    "np.random.seed(0)  # for reproducibility\n",
    "additional_noise = np.random.normal(0, 5000, additional_points)  # noise with mean 0 and standard deviation 5000\n",
    "additional_salaries = additional_salaries + additional_noise\n",
    "\n",
    "# Ensure all salaries are greater than or equal to 10000 and convert to integer\n",
    "additional_salaries = np.maximum(additional_salaries, 10000).astype(int)\n",
    "\n",
    "# Create the dataframe for additional data\n",
    "additional_data = pd.DataFrame({\n",
    "    'Level': additional_levels,\n",
    "    'Salary': additional_salaries\n",
    "})\n",
    "\n",
    "# Concatenate the original data with the additional data\n",
    "combined_data = pd.concat([data_original, additional_data], ignore_index=True)\n",
    "\n",
    "# Save to CSV\n",
    "csv_path_combined = \"combined_levels_salaries_data.csv\"\n",
    "combined_data.to_csv(csv_path_combined, index=False)\n",
    "\n",
    "print(f\"CSV file saved as {csv_path_combined}\")\n"
   ]
  },
  {
   "cell_type": "code",
   "execution_count": null,
   "metadata": {},
   "outputs": [],
   "source": []
  }
 ],
 "metadata": {
  "kernelspec": {
   "display_name": "Python 3 (ipykernel)",
   "language": "python",
   "name": "python3"
  },
  "language_info": {
   "codemirror_mode": {
    "name": "ipython",
    "version": 3
   },
   "file_extension": ".py",
   "mimetype": "text/x-python",
   "name": "python",
   "nbconvert_exporter": "python",
   "pygments_lexer": "ipython3",
   "version": "3.11.4"
  }
 },
 "nbformat": 4,
 "nbformat_minor": 2
}
